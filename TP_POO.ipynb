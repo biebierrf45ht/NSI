{
 "cells": [
  {
   "cell_type": "markdown",
   "metadata": {},
   "source": [
    "# Exercice 1\n",
    "## Définition d'une classe\n",
    "### Question 1 :\n"
   ]
  },
  {
   "cell_type": "code",
   "execution_count": 42,
   "metadata": {},
   "outputs": [],
   "source": [
    "class Rectangle:\n",
    "\n",
    "    def __init__(self,longueur,largeur):\n",
    "        self.longueur  = longueur\n",
    "        self.largeur   = largeur\n",
    "        \n",
    "    def calculer_surface(self):\n",
    "        return round(self.largeur * self.longueur,2)\n",
    "    \n",
    "    def calculer_perimetre(self):\n",
    "        return round(2 * (self.largeur + self.longueur),2)\n",
    "    \n",
    "    def print_attributs(self):\n",
    "        print(\"Largeur:\", self.largeur,\"m\")\n",
    "        print(\"Longueur:\", self.longueur,\"m\")\n",
    "        print(\"Périmètre:\", self.calculer_perimetre(),\"m\")\n",
    "        print(\"Surface:\", self.calculer_surface(),\"m²\")\n"
   ]
  },
  {
   "cell_type": "markdown",
   "metadata": {},
   "source": [
    "## Instanciation d'une classe\n",
    "### Question 2 :"
   ]
  },
  {
   "cell_type": "code",
   "execution_count": 43,
   "metadata": {},
   "outputs": [],
   "source": [
    "feuille = Rectangle(0.297,0.210)\n",
    "terrain_de_tennis = Rectangle(2.78,10.97)"
   ]
  },
  {
   "cell_type": "markdown",
   "metadata": {},
   "source": [
    "## Méthodes\n",
    "### Question 3 :"
   ]
  },
  {
   "cell_type": "code",
   "execution_count": 44,
   "metadata": {},
   "outputs": [
    {
     "name": "stdout",
     "output_type": "stream",
     "text": [
      "La largeur  de la feuille feuille est de 0.21 m.\n",
      "La longueur de la feuille feuille est de 0.297 m.\n",
      "La largeur  du terrain de tennis est de 10.97 m.\n",
      "La longueur du terrain de tennis est de 2.78 m.\n"
     ]
    }
   ],
   "source": [
    "# Création des méthodes Surface et Périmètre dans la classe Rectangle\n",
    "# TEST\n",
    "print(\"La largeur  de la feuille feuille est de\",feuille.largeur,\"m.\")\n",
    "print(\"La longueur de la feuille feuille est de\",feuille.longueur,\"m.\")\n",
    "print(\"La largeur  du terrain de tennis est de\",terrain_de_tennis.largeur,\"m.\")\n",
    "print(\"La longueur du terrain de tennis est de\",terrain_de_tennis.longueur,\"m.\")"
   ]
  },
  {
   "cell_type": "code",
   "execution_count": 45,
   "metadata": {},
   "outputs": [
    {
     "name": "stdout",
     "output_type": "stream",
     "text": [
      "La surface de la feuille A4 est d'environ 0.06 m².\n",
      "La surface du terrain de tennis est d'environ 30.5 m².\n"
     ]
    }
   ],
   "source": [
    "# Affichage des Surfaces\n",
    "print(\"La surface de la feuille A4 est d'environ\", feuille.calculer_surface(), \"m².\")\n",
    "print(\"La surface du terrain de tennis est d'environ\", terrain_de_tennis.calculer_surface(), \"m².\")\n"
   ]
  },
  {
   "cell_type": "code",
   "execution_count": 46,
   "metadata": {},
   "outputs": [
    {
     "name": "stdout",
     "output_type": "stream",
     "text": [
      "Le périmètre d est d'environ 1.01 m.\n",
      "Le périmètre d est d'environ 27.5 m.\n"
     ]
    }
   ],
   "source": [
    "# Affichage des périmètres\n",
    "print(\"Le périmètre d est d'environ\", feuille.calculer_perimetre(),\"m.\" )\n",
    "print(\"Le périmètre d est d'environ\", terrain_de_tennis.calculer_perimetre(),\"m.\" )"
   ]
  },
  {
   "cell_type": "markdown",
   "metadata": {},
   "source": [
    "### Question 4 :"
   ]
  },
  {
   "cell_type": "code",
   "execution_count": 47,
   "metadata": {},
   "outputs": [],
   "source": [
    "# Ajout de la fonction ``print_attributs`` dans la classe Rectangle\n",
    "#    \n",
    "#   def print_attributs(self):\n",
    "#       print(\"Largeur:\", self.largeur,\"m\")\n",
    "#       print(\"Longueur:\", self.longueur,\"m\")\n",
    "#       print(\"Périmètre:\", self.calculer_perimetre(),\"m\")\n",
    "#       print(\"Surface:\", self.calculer_surface(),\"m²\")"
   ]
  },
  {
   "cell_type": "markdown",
   "metadata": {},
   "source": [
    "### Question 5 :"
   ]
  },
  {
   "cell_type": "code",
   "execution_count": 48,
   "metadata": {},
   "outputs": [
    {
     "name": "stdout",
     "output_type": "stream",
     "text": [
      "Largeur: 10.97 m\n",
      "Longueur: 2.78 m\n",
      "Périmètre: 27.5 m\n",
      "Surface: 30.5 m²\n"
     ]
    }
   ],
   "source": [
    "# Affichage de la largeur, longueur, surface  et du périmètre du terrain de tennis\n",
    "terrain_de_tennis.print_attributs()"
   ]
  },
  {
   "cell_type": "code",
   "execution_count": 49,
   "metadata": {},
   "outputs": [
    {
     "name": "stdout",
     "output_type": "stream",
     "text": [
      "Largeur: 0.21 m\n",
      "Longueur: 0.297 m\n",
      "Périmètre: 1.01 m\n",
      "Surface: 0.06 m²\n"
     ]
    }
   ],
   "source": [
    "# Affichage de la largeur, longueur, surface  et du périmètre de la feuille\n",
    "feuille.print_attributs()"
   ]
  },
  {
   "cell_type": "markdown",
   "metadata": {},
   "source": [
    "# Exercice 2\n",
    "## Interactions entre objets\n"
   ]
  },
  {
   "cell_type": "code",
   "execution_count": 69,
   "metadata": {},
   "outputs": [],
   "source": [
    "# Dans ce qui suit, on suppose que tous les vecteurs ont une origine commune, et on se limite au plan.\n",
    "# Analyser le code suivant :\n",
    "class Vecteur:\n",
    "    def __init__(self,x=0,y=0):\n",
    "        self.x = x\n",
    "        self.y = y\n",
    "    def ajoute(self,vecteur):\n",
    "        self.x += vecteur.x\n",
    "        self.y += vecteur.y\n",
    "    def affiche(self):\n",
    "        print(\"Ce vecteur a pour coordonnées (\",self.x,\",\",self.y,\")\")\n",
    "    # méthodes rajoutées :\n",
    "    \n",
    "    def norme(self):\n",
    "        return (self.x**2 + self.y**2)**0.5\n",
    "    \n",
    "    def multiplie(self, nombre):\n",
    "        self.x *= nombre\n",
    "        self.y *= nombre\n",
    "\n",
    "    def normalise(self):\n",
    "        norme = self.norme()\n",
    "        if norme != 0:  # Pour éviter la division par zéro\n",
    "            self.x /= norme\n",
    "            self.y /= norme\n",
    "\n",
    "    def produit_scalaire(self, autre_vecteur):\n",
    "        return self.x * autre_vecteur.x + self.y * autre_vecteur.y\n",
    "    \n",
    "    def est_orthogonal(self, autre_vecteur):\n",
    "        return self.produit_scalaire(autre_vecteur) == 0\n",
    "    \n",
    "    def soustraction(vecteur1, vecteur2):\n",
    "        x = vecteur1.x - vecteur2.x\n",
    "        y = vecteur1.y - vecteur2.y\n",
    "        return Vecteur(x, y)\n",
    "    \n",
    "    \n",
    "a = Vecteur(2,5)\n",
    "b = Vecteur(7,-1)\n",
    "c = Vecteur()\n",
    "a.ajoute(b)\n"
   ]
  },
  {
   "cell_type": "markdown",
   "metadata": {},
   "source": [
    "### Question 6 :"
   ]
  },
  {
   "cell_type": "code",
   "execution_count": 51,
   "metadata": {},
   "outputs": [],
   "source": [
    "#Attributs :\n",
    "#x : Un entier qui représente la coordonnée x du vecteur (initialisé à 0 par défaut).\n",
    "#y : Un entier qui représente la coordonnée y du vecteur (initialisé à 0 par défaut).\n",
    "#______________________________________________________________________________________________________________________________________________________________________________________________________\n",
    "#Méthodes :\n",
    "#__init__(self, x=0, y=0) : Méthode de construction qui initialise les attributs x et y , des objets créés.\n",
    "#ajoute(self, vecteur) : Méthode qui ajoute un autre vecteur à l'objet actuel. Elle prend en argument un objet Vecteur à ajouter.\n",
    "#affiche(self) : Méthode qui affiche les coordonnées x et y de l'objet sous forme de chaîne de caractères."
   ]
  },
  {
   "cell_type": "markdown",
   "metadata": {},
   "source": [
    "### Question 7 :"
   ]
  },
  {
   "cell_type": "code",
   "execution_count": 52,
   "metadata": {},
   "outputs": [],
   "source": [
    "# Le vecteur c est créé sans passer de valeurs spécifiques, donc ses coordonnées seront 0,0\n",
    "# def __init__(self,x=0,y=0): chaque vecteur a pour coordonnées (0,0) par défaut tant qu'elles ne sont pas spécifiées.\n",
    "# c = Vecteur() aura donc pour coordonnées (0,0) par défaut."
   ]
  },
  {
   "cell_type": "markdown",
   "metadata": {},
   "source": [
    "### Question 8 :"
   ]
  },
  {
   "cell_type": "code",
   "execution_count": 71,
   "metadata": {},
   "outputs": [
    {
     "name": "stdout",
     "output_type": "stream",
     "text": [
      "La norme du vecteur est: 5.0\n"
     ]
    }
   ],
   "source": [
    "# Rajout de la méthode norme(self) qui retourne la norme du vecteur.\n",
    "# def norme(self):\n",
    "#     return (self.x**2 + self.y**2)**0.5\n",
    "# Exemple:\n",
    "v = Vecteur(3, 4)\n",
    "print(f\"La norme du vecteur est: {v.norme()}\")"
   ]
  },
  {
   "cell_type": "markdown",
   "metadata": {},
   "source": [
    "### Question 9 :"
   ]
  },
  {
   "cell_type": "code",
   "execution_count": 72,
   "metadata": {},
   "outputs": [
    {
     "name": "stdout",
     "output_type": "stream",
     "text": [
      "Les coordonnées du vecteur après multiplication sont: (6,8)\n"
     ]
    }
   ],
   "source": [
    "# Rajout de la méthode multiplie(self, nombre) qui multiplie les coordonnées du vecteur par un nombre.\n",
    "# def multiplie(self, nombre):\n",
    "#     self.x *= nombre\n",
    "#     self.y *= nombre\n",
    "# Exemple:\n",
    "v = Vecteur(3, 4)\n",
    "v.multiplie(2)\n",
    "print(f\"Les coordonnées du vecteur après multiplication sont: ({v.x},{v.y})\") # ou (\",v.x,\",\",v.y,\")\") utiliser des accolades permet de ne pas avoir d'espaces entre les parenthèses."
   ]
  },
  {
   "cell_type": "markdown",
   "metadata": {},
   "source": [
    "### Question 10 :"
   ]
  },
  {
   "cell_type": "code",
   "execution_count": 55,
   "metadata": {},
   "outputs": [
    {
     "name": "stdout",
     "output_type": "stream",
     "text": [
      "Avant normalisation: x = 3, y = 4, norme = 5.0\n",
      "Après normalisation: x = 0.6, y = 0.8, norme = 1.0\n"
     ]
    }
   ],
   "source": [
    "# Rajout de la méthode normalise(self) qui normalise le vecteur.\n",
    "# def normalise(self):\n",
    "#     norme = self.norme()\n",
    "#     if norme != 0:  # Pour éviter la division par zéro\n",
    "#         self.x /= norme\n",
    "#         self.y /= norme\n",
    "# Exemple:\n",
    "v = Vecteur(3, 4)\n",
    "print(f\"Avant normalisation: x = {v.x}, y = {v.y}, norme = {v.norme()}\")\n",
    "v.normalise()\n",
    "print(f\"Après normalisation: x = {v.x}, y = {v.y}, norme = {v.norme()}\")"
   ]
  },
  {
   "cell_type": "markdown",
   "metadata": {},
   "source": [
    "### Question 11 :"
   ]
  },
  {
   "cell_type": "code",
   "execution_count": 56,
   "metadata": {},
   "outputs": [
    {
     "name": "stdout",
     "output_type": "stream",
     "text": [
      "Le produit scalaire de v1 et v2 est: 11\n"
     ]
    }
   ],
   "source": [
    "# Rajout de la méthode produit_scalaire(self, autre_vecteur) qui retourne le produit scalaire du vecteur avec un autre vecteur.\n",
    "# def produit_scalaire(self, autre_vecteur):\n",
    "#     return self.x * autre_vecteur.x + self.y * autre_vecteur.y\n",
    "# Exemple:\n",
    "v1 = Vecteur(3, 4)\n",
    "v2 = Vecteur(1, 2)\n",
    "print(f\"Le produit scalaire de v1 et v2 est: {v1.produit_scalaire(v2)}\")\n"
   ]
  },
  {
   "cell_type": "markdown",
   "metadata": {},
   "source": [
    "### Question 12 :\n"
   ]
  },
  {
   "cell_type": "code",
   "execution_count": 57,
   "metadata": {},
   "outputs": [
    {
     "name": "stdout",
     "output_type": "stream",
     "text": [
      "Est ce que v1 est orthogonal à v2: False\n"
     ]
    }
   ],
   "source": [
    "# Rajout de la méthode est_orthogonal(self, autre_vecteur) qui retourne True si le vecteur est orthogonal à un autre vecteur.\n",
    "# def est_orthogonal(self, autre_vecteur):\n",
    "#     return self.produit_scalaire(autre_vecteur) == 0\n",
    "# Exemple:\n",
    "v1 = Vecteur(3, 4)\n",
    "v2 = Vecteur(1, -3)\n",
    "print(f\"Est ce que v1 est orthogonal à v2: {v1.est_orthogonal(v2)}\")"
   ]
  },
  {
   "cell_type": "markdown",
   "metadata": {},
   "source": [
    "### Question 13 :\n"
   ]
  },
  {
   "cell_type": "code",
   "execution_count": 58,
   "metadata": {},
   "outputs": [
    {
     "name": "stdout",
     "output_type": "stream",
     "text": [
      "La soustraction de v1 et v2 donne un vecteur de coordonnées (3,-4)\n"
     ]
    }
   ],
   "source": [
    "# Rajout de la méthode soustraction(vecteur1, vecteur2) qui retourne un vecteur qui est la soustraction de deux vecteurs.\n",
    "# def soustraction(vecteur1, vecteur2):\n",
    "#     x = vecteur1.x - vecteur2.x\n",
    "#     y = vecteur1.y - vecteur2.y\n",
    "#     return Vecteur(x, y)\n",
    "# Exemple:\n",
    "v1 = Vecteur(8, 3)\n",
    "v2 = Vecteur(5, 7)\n",
    "v3 = Vecteur.soustraction(v1, v2)\n",
    "print(f\"La soustraction de v1 et v2 donne un vecteur de coordonnées ({v3.x},{v3.y})\")"
   ]
  },
  {
   "cell_type": "markdown",
   "metadata": {},
   "source": [
    "# Exercice 3\n",
    "## Utilisation des vecteurs dans des constructions graphiques"
   ]
  },
  {
   "cell_type": "code",
   "execution_count": 59,
   "metadata": {},
   "outputs": [
    {
     "data": {
      "image/png": "[encoded data removed]",
      "text/plain": [
       "<Figure size 640x480 with 1 Axes>"
      ]
     },
     "metadata": {},
     "output_type": "display_data"
    }
   ],
   "source": [
    "# Le code suivant donne un exemple de tracé de vecteur avec matplotlib :\n",
    "import matplotlib.pyplot as plt\n",
    "ax = plt.axes()\n",
    "ax.arrow(0, 0, 6, 4, head_width=0.5, head_length=0.7, fc='red', ec='red', overhang=0.5, length_includes_head=True)\n",
    "ax.arrow(0, 0, 4, 8, head_width=0.5, head_length=0.7, fc='green', ec='green', overhang=0.5, length_includes_head=True)\n",
    "plt.grid()\n",
    "plt.xlim(-2,10)\n",
    "plt.ylim(-2,10)\n",
    "ax.legend(['u', 'v'])\n",
    "plt.show() # Affiche le graphique et enlève l'erreur suivante : <matplotlib.legend.Legend at 0x16c014c3470>"
   ]
  },
  {
   "cell_type": "markdown",
   "metadata": {},
   "source": [
    "### Question 14 :\n"
   ]
  },
  {
   "cell_type": "code",
   "execution_count": 60,
   "metadata": {},
   "outputs": [
    {
     "data": {
      "image/png": "[encoded data removed]",
      "text/plain": [
       "<Figure size 640x480 with 1 Axes>"
      ]
     },
     "metadata": {},
     "output_type": "display_data"
    }
   ],
   "source": [
    "# Essayer avec ces valeurs ci dessous:\n",
    "# a(5,0) et b(5,5)\n",
    "import matplotlib.pyplot as plt\n",
    "class Vecteur:\n",
    "    def __init__(self, x=0, y=0):\n",
    "        self.x = x\n",
    "        self.y = y\n",
    "    def soustraction(vecteur1, vecteur2):\n",
    "        x = vecteur2.x - vecteur1.x\n",
    "        y = vecteur2.y - vecteur1.y\n",
    "        return Vecteur(x, y)\n",
    "    def saisir_vecteur(nom):\n",
    "        x = float(input(f\"Entrez la coordonnée x du vecteur {nom}: \"))\n",
    "        y = float(input(f\"Entrez la coordonnée y du vecteur {nom}: \"))\n",
    "        return Vecteur(x, y)\n",
    "# Saisie des coordonnées des vecteurs a et b\n",
    "a = Vecteur.saisir_vecteur('a')\n",
    "b = Vecteur.saisir_vecteur('b')\n",
    "# Construction du vecteur c = b - a\n",
    "c = Vecteur.soustraction(a, b)\n",
    "# Tracé des vecteurs a, b et c\n",
    "# Tracé des vecteurs a, b et c\n",
    "ax=plt.axes()\n",
    "ax.arrow(0, 0, a.x, a.y, head_width=0.5, head_length=0.7, fc='red', ec='red', overhang=0.5, length_includes_head=True)\n",
    "ax.arrow(0, 0, b.x, b.y, head_width=0.5, head_length=0.7, fc='green', ec='green', overhang=0.5, length_includes_head=True)\n",
    "ax.arrow(0, 0, c.x, c.y, head_width=0.5, head_length=0.7, fc='blue', ec='blue', overhang=0.5, length_includes_head=True)\n",
    "ax.grid()\n",
    "ax.set_xlim(-10, 10)\n",
    "ax.set_ylim(-10, 10)\n",
    "ax.legend(['a', 'b', 'c'])\n",
    "plt.show() # Affiche le graphique et enlève l'erreur suivante : <matplotlib.legend.Legend at 0x16c01422a50>"
   ]
  },
  {
   "cell_type": "markdown",
   "metadata": {},
   "source": [
    "# Sources :\n",
    "## Pour python :\n",
    "https://phychiinfo.site/informatique/langages/aide_memoire_pyplot.php\n",
    "\n",
    "https://www.pierre-giraud.com/python-apprendre-programmer-cours/operateur/\n",
    "\n",
    "## En math : \n",
    "https://www.annales2maths.com/1ere-cours-geometrie-reperee/\n",
    "\n",
    "https://www.annales2maths.com/1ere-cours-produit-scalaire/"
   ]
  },
  {
   "cell_type": "markdown",
   "metadata": {},
   "source": []
  }
 ],
 "metadata": {
  "kernelspec": {
   "display_name": "base",
   "language": "python",
   "name": "python3"
  },
  "language_info": {
   "codemirror_mode": {
    "name": "ipython",
    "version": 3
   },
   "file_extension": ".py",
   "mimetype": "text/x-python",
   "name": "python",
   "nbconvert_exporter": "python",
   "pygments_lexer": "ipython3",
   "version": "3.12.6"
  }
 },
 "nbformat": 4,
 "nbformat_minor": 2
}
