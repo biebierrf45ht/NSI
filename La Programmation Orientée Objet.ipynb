{
 "cells": [
  {
   "cell_type": "code",
   "execution_count": 1,
   "metadata": {},
   "outputs": [],
   "source": [
    "class Vehicule:\n",
    "    \n",
    "    \n",
    "    def __init__(self, nom, couleur):\n",
    "        self.roues = {\"voiture\":4, \"camion\":8, \"velo\":2 ,\"scooter\":2}\n",
    "        self.nom = nom\n",
    "        self.couleur = couleur\n",
    "        self.etat_actuel = \"arrêt\"\n",
    "        self.nombre_de_roues = self.roues[nom] if (nom in self.roues.keys()) else 2\n",
    "    def nb_roues(self):\n",
    "        return self.nombre_de_roues\n",
    "        \n",
    "    #def demarrer(self):\n",
    "        self.etat_actuel = \"démarré\"\n",
    "        ...\n",
    "    #def freiner(self):\n",
    "        ...\n",
    "    #def tourner_a_gauche(self):\n",
    "        ...\n",
    "    #def tourner_a_droite(self):\n",
    "        ..."
   ]
  },
  {
   "cell_type": "code",
   "execution_count": 2,
   "metadata": {},
   "outputs": [],
   "source": [
    "voiture = Vehicule(\"voiture\", \"rouge\")\n",
    "poids_lourd = Vehicule(\"camion\", \"vert\")\n",
    "vehicule_leger = Vehicule(\"velo\", \"bleu\")"
   ]
  },
  {
   "cell_type": "code",
   "execution_count": 3,
   "metadata": {},
   "outputs": [
    {
     "name": "stdout",
     "output_type": "stream",
     "text": [
      "rouge\n"
     ]
    }
   ],
   "source": [
    "print(voiture.couleur)"
   ]
  },
  {
   "cell_type": "code",
   "execution_count": 4,
   "metadata": {},
   "outputs": [],
   "source": [
    "scooter = Vehicule(\"t-max\",\"noir\")"
   ]
  },
  {
   "cell_type": "code",
   "execution_count": 5,
   "metadata": {},
   "outputs": [],
   "source": [
    "truck = Vehicule(\"Camion\",\"gris\")"
   ]
  },
  {
   "cell_type": "code",
   "execution_count": 6,
   "metadata": {},
   "outputs": [
    {
     "data": {
      "text/plain": [
       "2"
      ]
     },
     "execution_count": 6,
     "metadata": {},
     "output_type": "execute_result"
    }
   ],
   "source": [
    "scooter.nb_roues()"
   ]
  },
  {
   "cell_type": "code",
   "execution_count": 7,
   "metadata": {},
   "outputs": [],
   "source": [
    "LISTE=[voiture, poids_lourd, vehicule_leger, scooter]"
   ]
  },
  {
   "cell_type": "code",
   "execution_count": 8,
   "metadata": {},
   "outputs": [
    {
     "name": "stdout",
     "output_type": "stream",
     "text": [
      "L'objet voiture possède 4 roues.\n",
      "L'objet camion possède 8 roues.\n",
      "L'objet velo possède 2 roues.\n",
      "L'objet t-max possède 2 roues.\n"
     ]
    }
   ],
   "source": [
    "for i in LISTE:\n",
    "    print(\"L'objet\",i.nom,\"possède\",i.nb_roues(),\"roues.\")"
   ]
  }
 ],
 "metadata": {
  "kernelspec": {
   "display_name": "base",
   "language": "python",
   "name": "python3"
  },
  "language_info": {
   "codemirror_mode": {
    "name": "ipython",
    "version": 3
   },
   "file_extension": ".py",
   "mimetype": "text/x-python",
   "name": "python",
   "nbconvert_exporter": "python",
   "pygments_lexer": "ipython3",
   "version": "3.12.6"
  }
 },
 "nbformat": 4,
 "nbformat_minor": 2
}
